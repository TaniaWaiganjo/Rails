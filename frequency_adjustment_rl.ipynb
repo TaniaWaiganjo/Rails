{
 "cells": [
  {
   "cell_type": "code",
   "id": "initial_id",
   "metadata": {
    "collapsed": true,
    "ExecuteTime": {
     "end_time": "2024-09-03T12:10:38.320329Z",
     "start_time": "2024-09-03T12:10:36.621747Z"
    }
   },
   "source": [
    "import pandas as pd\n",
    "from recordlinkage.index import Block\n",
    "from recordlinkage.compare import Compare\n",
    "\n",
    "# Load your data\n",
    "df_a = pd.DataFrame({\n",
    "    'name': ['John Smith', 'Jane Doe', 'Mary Johnson'],\n",
    "    'dob': ['1990-01-01', '1985-05-15', '1970-12-30']\n",
    "})\n",
    "\n",
    "df_b = pd.DataFrame({\n",
    "    'name': ['John Smith', 'Jane D.', 'Mary Johnson'],\n",
    "    'dob': ['1990-01-01', '1985-05-15', '1970-12-30']\n",
    "})\n",
    "\n",
    "# Create index pairs\n",
    "indexer = Block('dob')\n",
    "candidate_links = indexer.index(df_a, df_b)\n",
    "\n",
    "# Compare the data\n",
    "compare = Compare()\n",
    "compare.string('name', 'name', method='jarowinkler', threshold=0.85, label='name')\n",
    "compare.exact('dob', 'dob', label='dob')\n",
    "\n",
    "comparison_vectors = compare.compute(candidate_links, df_a, df_b)\n",
    "\n",
    "# Calculate frequency tables\n",
    "name_frequency_a = df_a['name'].value_counts(normalize=True).to_dict()\n",
    "name_frequency_b = df_b['name'].value_counts(normalize=True).to_dict()\n",
    "\n",
    "def frequency_adjustment(row, freq_a, freq_b):\n",
    "    name_a, name_b = row['name']\n",
    "    return 1 - max(freq_a.get(name_a, 0), freq_b.get(name_b, 0))\n",
    "\n",
    "comparison_vectors['name_weighted'] = comparison_vectors.apply(frequency_adjustment, axis=1, args=(name_frequency_a, name_frequency_b))\n",
    "\n",
    "# Adjust scores based on frequency\n",
    "comparison_vectors['final_score'] = comparison_vectors['name'] * comparison_vectors['name_weighted']\n",
    "comparison_vectors['final_score'] += comparison_vectors['dob']\n",
    "\n",
    "# Set a threshold and make predictions\n",
    "threshold = 1.5\n",
    "matches = comparison_vectors[comparison_vectors['final_score'] > threshold]\n",
    "\n",
    "# Review the results\n",
    "matched_pairs = matches.index\n",
    "print(matched_pairs)\n"
   ],
   "outputs": [
    {
     "ename": "ImportError",
     "evalue": "cannot import name 'Compare' from 'recordlinkage.compare' (/home/tania/.local/lib/python3.10/site-packages/recordlinkage/compare.py)",
     "output_type": "error",
     "traceback": [
      "\u001B[0;31m---------------------------------------------------------------------------\u001B[0m",
      "\u001B[0;31mImportError\u001B[0m                               Traceback (most recent call last)",
      "Cell \u001B[0;32mIn[1], line 3\u001B[0m\n\u001B[1;32m      1\u001B[0m \u001B[38;5;28;01mimport\u001B[39;00m \u001B[38;5;21;01mpandas\u001B[39;00m \u001B[38;5;28;01mas\u001B[39;00m \u001B[38;5;21;01mpd\u001B[39;00m\n\u001B[1;32m      2\u001B[0m \u001B[38;5;28;01mfrom\u001B[39;00m \u001B[38;5;21;01mrecordlinkage\u001B[39;00m\u001B[38;5;21;01m.\u001B[39;00m\u001B[38;5;21;01mindex\u001B[39;00m \u001B[38;5;28;01mimport\u001B[39;00m Block\n\u001B[0;32m----> 3\u001B[0m \u001B[38;5;28;01mfrom\u001B[39;00m \u001B[38;5;21;01mrecordlinkage\u001B[39;00m\u001B[38;5;21;01m.\u001B[39;00m\u001B[38;5;21;01mcompare\u001B[39;00m \u001B[38;5;28;01mimport\u001B[39;00m Compare\n\u001B[1;32m      5\u001B[0m \u001B[38;5;66;03m# Load your data\u001B[39;00m\n\u001B[1;32m      6\u001B[0m df_a \u001B[38;5;241m=\u001B[39m pd\u001B[38;5;241m.\u001B[39mDataFrame({\n\u001B[1;32m      7\u001B[0m     \u001B[38;5;124m'\u001B[39m\u001B[38;5;124mname\u001B[39m\u001B[38;5;124m'\u001B[39m: [\u001B[38;5;124m'\u001B[39m\u001B[38;5;124mJohn Smith\u001B[39m\u001B[38;5;124m'\u001B[39m, \u001B[38;5;124m'\u001B[39m\u001B[38;5;124mJane Doe\u001B[39m\u001B[38;5;124m'\u001B[39m, \u001B[38;5;124m'\u001B[39m\u001B[38;5;124mMary Johnson\u001B[39m\u001B[38;5;124m'\u001B[39m],\n\u001B[1;32m      8\u001B[0m     \u001B[38;5;124m'\u001B[39m\u001B[38;5;124mdob\u001B[39m\u001B[38;5;124m'\u001B[39m: [\u001B[38;5;124m'\u001B[39m\u001B[38;5;124m1990-01-01\u001B[39m\u001B[38;5;124m'\u001B[39m, \u001B[38;5;124m'\u001B[39m\u001B[38;5;124m1985-05-15\u001B[39m\u001B[38;5;124m'\u001B[39m, \u001B[38;5;124m'\u001B[39m\u001B[38;5;124m1970-12-30\u001B[39m\u001B[38;5;124m'\u001B[39m]\n\u001B[1;32m      9\u001B[0m })\n",
      "\u001B[0;31mImportError\u001B[0m: cannot import name 'Compare' from 'recordlinkage.compare' (/home/tania/.local/lib/python3.10/site-packages/recordlinkage/compare.py)"
     ]
    }
   ],
   "execution_count": 1
  }
 ],
 "metadata": {
  "kernelspec": {
   "display_name": "Python 3",
   "language": "python",
   "name": "python3"
  },
  "language_info": {
   "codemirror_mode": {
    "name": "ipython",
    "version": 2
   },
   "file_extension": ".py",
   "mimetype": "text/x-python",
   "name": "python",
   "nbconvert_exporter": "python",
   "pygments_lexer": "ipython2",
   "version": "2.7.6"
  }
 },
 "nbformat": 4,
 "nbformat_minor": 5
}
